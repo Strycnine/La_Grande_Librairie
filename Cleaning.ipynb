{
 "cells": [
  {
   "cell_type": "markdown",
   "metadata": {},
   "source": [
    "# BRIEF 5 - Cleaning"
   ]
  },
  {
   "cell_type": "markdown",
   "metadata": {},
   "source": []
  },
  {
   "cell_type": "code",
   "execution_count": 1,
   "metadata": {},
   "outputs": [],
   "source": [
    "import os\n",
    "import pandas as pd\n",
    "import numpy as np\n",
    "import seaborn as sns\n",
    "import matplotlib.pyplot as plt\n",
    "from pandas_profiling import ProfileReport\n",
    "%matplotlib inline"
   ]
  },
  {
   "cell_type": "markdown",
   "metadata": {},
   "source": []
  },
  {
   "cell_type": "code",
   "execution_count": 2,
   "metadata": {},
   "outputs": [
    {
     "name": "stdout",
     "output_type": "stream",
     "text": [
      "     client_id sex  birth\n",
      "3177    c_1632   m   2004\n",
      "535     c_1077   f   1985\n",
      "1522    c_1881   f   1965\n",
      "3783     c_270   m   1953\n",
      "4965    c_3727   m   1985 \n",
      "\n",
      "     id_prod  price  categ\n",
      "658     0_18  25.49      0\n",
      "2605   1_305  29.99      1\n",
      "1352   0_694  11.35      0\n",
      "2264    2_41  68.99      2\n",
      "2880   0_611  12.99      0 \n",
      "\n",
      "       id_prod                        date session_id client_id\n",
      "315495  0_1420  2021-11-09 13:10:38.792489   s_117067    c_1598\n",
      "65472   0_1156  2021-04-25 04:17:26.516086    s_25381    c_1368\n",
      "327243  0_1227  2021-10-03 05:31:07.270768    s_99257    c_1744\n",
      "92372   0_1218  2022-02-28 05:36:32.850402   s_172039    c_7946\n",
      "59364   0_2241  2022-02-03 12:55:49.842925   s_159363    c_3461 \n",
      "\n"
     ]
    }
   ],
   "source": [
    "df_clients = pd.read_csv(r'Ressources\\RAW\\clients.csv', \n",
    "                         dtype={'client_id':'string', 'sex':'string', 'birth':'int64'})\n",
    "df_produits = pd.read_csv(r'Ressources\\RAW\\produits.csv', \n",
    "                          dtype={'id_prod':'string', 'price':'float64', 'categ':'int64'})\n",
    "df_ventes = pd.read_csv(r'Ressources\\RAW\\ventes.csv', \n",
    "                          dtype={'id_prod':'string', 'date':'string', 'session_id':'string', 'client_id':'string'})\n",
    "print(df_clients.sample(5),'\\n')\n",
    "print(df_produits.sample(5),'\\n')\n",
    "print(df_ventes.sample(5),'\\n')"
   ]
  },
  {
   "cell_type": "markdown",
   "metadata": {},
   "source": [
    "### Vérification des doublons"
   ]
  },
  {
   "cell_type": "code",
   "execution_count": 3,
   "metadata": {
    "scrolled": true
   },
   "outputs": [
    {
     "name": "stdout",
     "output_type": "stream",
     "text": [
      "doublon clef clients :  False\n",
      "doublon clef produits :  False\n"
     ]
    }
   ],
   "source": [
    "print('doublon clef clients : ',\n",
    "      [df_clients['client_id'].duplicated()]==True)\n",
    "print('doublon clef produits : ',\n",
    "      [df_produits['id_prod'].duplicated()]==True)"
   ]
  },
  {
   "cell_type": "markdown",
   "metadata": {},
   "source": [
    "### Merging"
   ]
  },
  {
   "cell_type": "code",
   "execution_count": 4,
   "metadata": {},
   "outputs": [
    {
     "data": {
      "text/html": [
       "<div>\n",
       "<style scoped>\n",
       "    .dataframe tbody tr th:only-of-type {\n",
       "        vertical-align: middle;\n",
       "    }\n",
       "\n",
       "    .dataframe tbody tr th {\n",
       "        vertical-align: top;\n",
       "    }\n",
       "\n",
       "    .dataframe thead th {\n",
       "        text-align: right;\n",
       "    }\n",
       "</style>\n",
       "<table border=\"1\" class=\"dataframe\">\n",
       "  <thead>\n",
       "    <tr style=\"text-align: right;\">\n",
       "      <th></th>\n",
       "      <th>id_prod</th>\n",
       "      <th>date</th>\n",
       "      <th>session_id</th>\n",
       "      <th>client_id</th>\n",
       "      <th>sex</th>\n",
       "      <th>birth</th>\n",
       "      <th>price</th>\n",
       "      <th>categ</th>\n",
       "    </tr>\n",
       "  </thead>\n",
       "  <tbody>\n",
       "    <tr>\n",
       "      <th>0</th>\n",
       "      <td>0_1483</td>\n",
       "      <td>2021-04-10 18:37:28.723910</td>\n",
       "      <td>s_18746</td>\n",
       "      <td>c_4450</td>\n",
       "      <td>f</td>\n",
       "      <td>1977</td>\n",
       "      <td>4.99</td>\n",
       "      <td>0.0</td>\n",
       "    </tr>\n",
       "    <tr>\n",
       "      <th>1</th>\n",
       "      <td>2_226</td>\n",
       "      <td>2022-02-03 01:55:53.276402</td>\n",
       "      <td>s_159142</td>\n",
       "      <td>c_277</td>\n",
       "      <td>f</td>\n",
       "      <td>2000</td>\n",
       "      <td>65.75</td>\n",
       "      <td>2.0</td>\n",
       "    </tr>\n",
       "    <tr>\n",
       "      <th>2</th>\n",
       "      <td>1_374</td>\n",
       "      <td>2021-09-23 15:13:46.938559</td>\n",
       "      <td>s_94290</td>\n",
       "      <td>c_4270</td>\n",
       "      <td>f</td>\n",
       "      <td>1979</td>\n",
       "      <td>10.71</td>\n",
       "      <td>1.0</td>\n",
       "    </tr>\n",
       "    <tr>\n",
       "      <th>3</th>\n",
       "      <td>0_2186</td>\n",
       "      <td>2021-10-17 03:27:18.783634</td>\n",
       "      <td>s_105936</td>\n",
       "      <td>c_4597</td>\n",
       "      <td>m</td>\n",
       "      <td>1963</td>\n",
       "      <td>4.20</td>\n",
       "      <td>0.0</td>\n",
       "    </tr>\n",
       "    <tr>\n",
       "      <th>4</th>\n",
       "      <td>0_1351</td>\n",
       "      <td>2021-07-17 20:34:25.800563</td>\n",
       "      <td>s_63642</td>\n",
       "      <td>c_1242</td>\n",
       "      <td>f</td>\n",
       "      <td>1980</td>\n",
       "      <td>8.99</td>\n",
       "      <td>0.0</td>\n",
       "    </tr>\n",
       "    <tr>\n",
       "      <th>...</th>\n",
       "      <td>...</td>\n",
       "      <td>...</td>\n",
       "      <td>...</td>\n",
       "      <td>...</td>\n",
       "      <td>...</td>\n",
       "      <td>...</td>\n",
       "      <td>...</td>\n",
       "      <td>...</td>\n",
       "    </tr>\n",
       "    <tr>\n",
       "      <th>337011</th>\n",
       "      <td>1_671</td>\n",
       "      <td>2021-05-28 12:35:46.214839</td>\n",
       "      <td>s_40720</td>\n",
       "      <td>c_3454</td>\n",
       "      <td>m</td>\n",
       "      <td>1969</td>\n",
       "      <td>31.99</td>\n",
       "      <td>1.0</td>\n",
       "    </tr>\n",
       "    <tr>\n",
       "      <th>337012</th>\n",
       "      <td>0_759</td>\n",
       "      <td>2021-06-19 00:19:23.917703</td>\n",
       "      <td>s_50568</td>\n",
       "      <td>c_6268</td>\n",
       "      <td>m</td>\n",
       "      <td>1991</td>\n",
       "      <td>22.99</td>\n",
       "      <td>0.0</td>\n",
       "    </tr>\n",
       "    <tr>\n",
       "      <th>337013</th>\n",
       "      <td>0_1256</td>\n",
       "      <td>2021-03-16 17:31:59.442007</td>\n",
       "      <td>s_7219</td>\n",
       "      <td>c_4137</td>\n",
       "      <td>f</td>\n",
       "      <td>1968</td>\n",
       "      <td>11.03</td>\n",
       "      <td>0.0</td>\n",
       "    </tr>\n",
       "    <tr>\n",
       "      <th>337014</th>\n",
       "      <td>2_227</td>\n",
       "      <td>2021-10-30 16:50:15.997750</td>\n",
       "      <td>s_112349</td>\n",
       "      <td>c_5</td>\n",
       "      <td>f</td>\n",
       "      <td>1994</td>\n",
       "      <td>50.99</td>\n",
       "      <td>2.0</td>\n",
       "    </tr>\n",
       "    <tr>\n",
       "      <th>337015</th>\n",
       "      <td>0_1417</td>\n",
       "      <td>2021-06-26 14:38:19.732946</td>\n",
       "      <td>s_54117</td>\n",
       "      <td>c_6714</td>\n",
       "      <td>f</td>\n",
       "      <td>1968</td>\n",
       "      <td>17.99</td>\n",
       "      <td>0.0</td>\n",
       "    </tr>\n",
       "  </tbody>\n",
       "</table>\n",
       "<p>337016 rows × 8 columns</p>\n",
       "</div>"
      ],
      "text/plain": [
       "       id_prod                        date session_id client_id sex  birth  \\\n",
       "0       0_1483  2021-04-10 18:37:28.723910    s_18746    c_4450   f   1977   \n",
       "1        2_226  2022-02-03 01:55:53.276402   s_159142     c_277   f   2000   \n",
       "2        1_374  2021-09-23 15:13:46.938559    s_94290    c_4270   f   1979   \n",
       "3       0_2186  2021-10-17 03:27:18.783634   s_105936    c_4597   m   1963   \n",
       "4       0_1351  2021-07-17 20:34:25.800563    s_63642    c_1242   f   1980   \n",
       "...        ...                         ...        ...       ...  ..    ...   \n",
       "337011   1_671  2021-05-28 12:35:46.214839    s_40720    c_3454   m   1969   \n",
       "337012   0_759  2021-06-19 00:19:23.917703    s_50568    c_6268   m   1991   \n",
       "337013  0_1256  2021-03-16 17:31:59.442007     s_7219    c_4137   f   1968   \n",
       "337014   2_227  2021-10-30 16:50:15.997750   s_112349       c_5   f   1994   \n",
       "337015  0_1417  2021-06-26 14:38:19.732946    s_54117    c_6714   f   1968   \n",
       "\n",
       "        price  categ  \n",
       "0        4.99    0.0  \n",
       "1       65.75    2.0  \n",
       "2       10.71    1.0  \n",
       "3        4.20    0.0  \n",
       "4        8.99    0.0  \n",
       "...       ...    ...  \n",
       "337011  31.99    1.0  \n",
       "337012  22.99    0.0  \n",
       "337013  11.03    0.0  \n",
       "337014  50.99    2.0  \n",
       "337015  17.99    0.0  \n",
       "\n",
       "[337016 rows x 8 columns]"
      ]
     },
     "execution_count": 4,
     "metadata": {},
     "output_type": "execute_result"
    }
   ],
   "source": [
    "df_merge = df_ventes.merge(df_clients, how='left')\n",
    "df_merge = df_merge.merge(df_produits, how='left')\n",
    "df_merge"
   ]
  },
  {
   "cell_type": "markdown",
   "metadata": {},
   "source": [
    "### Nettoyage"
   ]
  },
  {
   "cell_type": "markdown",
   "metadata": {},
   "source": [
    "Je repère les NaN et les drops."
   ]
  },
  {
   "cell_type": "code",
   "execution_count": 5,
   "metadata": {},
   "outputs": [
    {
     "data": {
      "text/html": [
       "<div>\n",
       "<style scoped>\n",
       "    .dataframe tbody tr th:only-of-type {\n",
       "        vertical-align: middle;\n",
       "    }\n",
       "\n",
       "    .dataframe tbody tr th {\n",
       "        vertical-align: top;\n",
       "    }\n",
       "\n",
       "    .dataframe thead th {\n",
       "        text-align: right;\n",
       "    }\n",
       "</style>\n",
       "<table border=\"1\" class=\"dataframe\">\n",
       "  <thead>\n",
       "    <tr style=\"text-align: right;\">\n",
       "      <th></th>\n",
       "      <th>id_prod</th>\n",
       "      <th>date</th>\n",
       "      <th>session_id</th>\n",
       "      <th>client_id</th>\n",
       "      <th>sex</th>\n",
       "      <th>birth</th>\n",
       "      <th>price</th>\n",
       "      <th>categ</th>\n",
       "    </tr>\n",
       "  </thead>\n",
       "  <tbody>\n",
       "    <tr>\n",
       "      <th>6235</th>\n",
       "      <td>0_2245</td>\n",
       "      <td>2021-06-17 03:03:12.668129</td>\n",
       "      <td>s_49705</td>\n",
       "      <td>c_1533</td>\n",
       "      <td>m</td>\n",
       "      <td>1972</td>\n",
       "      <td>NaN</td>\n",
       "      <td>NaN</td>\n",
       "    </tr>\n",
       "    <tr>\n",
       "      <th>10802</th>\n",
       "      <td>0_2245</td>\n",
       "      <td>2021-06-16 05:53:01.627491</td>\n",
       "      <td>s_49323</td>\n",
       "      <td>c_7954</td>\n",
       "      <td>m</td>\n",
       "      <td>1973</td>\n",
       "      <td>NaN</td>\n",
       "      <td>NaN</td>\n",
       "    </tr>\n",
       "    <tr>\n",
       "      <th>14051</th>\n",
       "      <td>0_2245</td>\n",
       "      <td>2021-11-24 17:35:59.911427</td>\n",
       "      <td>s_124474</td>\n",
       "      <td>c_5120</td>\n",
       "      <td>f</td>\n",
       "      <td>1975</td>\n",
       "      <td>NaN</td>\n",
       "      <td>NaN</td>\n",
       "    </tr>\n",
       "    <tr>\n",
       "      <th>17486</th>\n",
       "      <td>0_2245</td>\n",
       "      <td>2022-02-28 18:08:49.875709</td>\n",
       "      <td>s_172304</td>\n",
       "      <td>c_4964</td>\n",
       "      <td>f</td>\n",
       "      <td>1982</td>\n",
       "      <td>NaN</td>\n",
       "      <td>NaN</td>\n",
       "    </tr>\n",
       "    <tr>\n",
       "      <th>21078</th>\n",
       "      <td>0_2245</td>\n",
       "      <td>2021-03-01 00:09:29.301897</td>\n",
       "      <td>s_3</td>\n",
       "      <td>c_580</td>\n",
       "      <td>m</td>\n",
       "      <td>1988</td>\n",
       "      <td>NaN</td>\n",
       "      <td>NaN</td>\n",
       "    </tr>\n",
       "    <tr>\n",
       "      <th>...</th>\n",
       "      <td>...</td>\n",
       "      <td>...</td>\n",
       "      <td>...</td>\n",
       "      <td>...</td>\n",
       "      <td>...</td>\n",
       "      <td>...</td>\n",
       "      <td>...</td>\n",
       "      <td>...</td>\n",
       "    </tr>\n",
       "    <tr>\n",
       "      <th>322710</th>\n",
       "      <td>0_2245</td>\n",
       "      <td>2021-04-06 19:59:19.462288</td>\n",
       "      <td>s_16936</td>\n",
       "      <td>c_4167</td>\n",
       "      <td>f</td>\n",
       "      <td>1979</td>\n",
       "      <td>NaN</td>\n",
       "      <td>NaN</td>\n",
       "    </tr>\n",
       "    <tr>\n",
       "      <th>329417</th>\n",
       "      <td>0_2245</td>\n",
       "      <td>2021-03-30 23:29:02.347672</td>\n",
       "      <td>s_13738</td>\n",
       "      <td>c_7790</td>\n",
       "      <td>f</td>\n",
       "      <td>1983</td>\n",
       "      <td>NaN</td>\n",
       "      <td>NaN</td>\n",
       "    </tr>\n",
       "    <tr>\n",
       "      <th>330490</th>\n",
       "      <td>0_2245</td>\n",
       "      <td>2021-12-03 14:14:40.444177</td>\n",
       "      <td>s_128815</td>\n",
       "      <td>c_6189</td>\n",
       "      <td>f</td>\n",
       "      <td>1984</td>\n",
       "      <td>NaN</td>\n",
       "      <td>NaN</td>\n",
       "    </tr>\n",
       "    <tr>\n",
       "      <th>335531</th>\n",
       "      <td>0_2245</td>\n",
       "      <td>2021-04-27 18:58:47.703374</td>\n",
       "      <td>s_26624</td>\n",
       "      <td>c_1595</td>\n",
       "      <td>f</td>\n",
       "      <td>1973</td>\n",
       "      <td>NaN</td>\n",
       "      <td>NaN</td>\n",
       "    </tr>\n",
       "    <tr>\n",
       "      <th>336220</th>\n",
       "      <td>0_2245</td>\n",
       "      <td>2021-05-01 03:35:03.146305</td>\n",
       "      <td>s_28235</td>\n",
       "      <td>c_5714</td>\n",
       "      <td>f</td>\n",
       "      <td>1972</td>\n",
       "      <td>NaN</td>\n",
       "      <td>NaN</td>\n",
       "    </tr>\n",
       "  </tbody>\n",
       "</table>\n",
       "<p>103 rows × 8 columns</p>\n",
       "</div>"
      ],
      "text/plain": [
       "       id_prod                        date session_id client_id sex  birth  \\\n",
       "6235    0_2245  2021-06-17 03:03:12.668129    s_49705    c_1533   m   1972   \n",
       "10802   0_2245  2021-06-16 05:53:01.627491    s_49323    c_7954   m   1973   \n",
       "14051   0_2245  2021-11-24 17:35:59.911427   s_124474    c_5120   f   1975   \n",
       "17486   0_2245  2022-02-28 18:08:49.875709   s_172304    c_4964   f   1982   \n",
       "21078   0_2245  2021-03-01 00:09:29.301897        s_3     c_580   m   1988   \n",
       "...        ...                         ...        ...       ...  ..    ...   \n",
       "322710  0_2245  2021-04-06 19:59:19.462288    s_16936    c_4167   f   1979   \n",
       "329417  0_2245  2021-03-30 23:29:02.347672    s_13738    c_7790   f   1983   \n",
       "330490  0_2245  2021-12-03 14:14:40.444177   s_128815    c_6189   f   1984   \n",
       "335531  0_2245  2021-04-27 18:58:47.703374    s_26624    c_1595   f   1973   \n",
       "336220  0_2245  2021-05-01 03:35:03.146305    s_28235    c_5714   f   1972   \n",
       "\n",
       "        price  categ  \n",
       "6235      NaN    NaN  \n",
       "10802     NaN    NaN  \n",
       "14051     NaN    NaN  \n",
       "17486     NaN    NaN  \n",
       "21078     NaN    NaN  \n",
       "...       ...    ...  \n",
       "322710    NaN    NaN  \n",
       "329417    NaN    NaN  \n",
       "330490    NaN    NaN  \n",
       "335531    NaN    NaN  \n",
       "336220    NaN    NaN  \n",
       "\n",
       "[103 rows x 8 columns]"
      ]
     },
     "execution_count": 5,
     "metadata": {},
     "output_type": "execute_result"
    }
   ],
   "source": [
    "df_NaN = df_merge[df_merge.isnull().any(1)]\n",
    "df_NaN"
   ]
  },
  {
   "cell_type": "code",
   "execution_count": 6,
   "metadata": {},
   "outputs": [],
   "source": [
    "df_NaN.to_csv(r'Ressources\\error_produits.csv')\n",
    "df_merge = df_merge.drop(df_NaN.index)"
   ]
  },
  {
   "cell_type": "code",
   "execution_count": 7,
   "metadata": {
    "scrolled": false
   },
   "outputs": [
    {
     "name": "stdout",
     "output_type": "stream",
     "text": [
      "               birth          price          categ\n",
      "count  336913.000000  336913.000000  336913.000000\n",
      "mean     1977.837326      17.204376       0.429900\n",
      "std        13.532198      17.855658       0.590999\n",
      "min      1929.000000      -1.000000       0.000000\n",
      "25%      1971.000000       8.580000       0.000000\n",
      "50%      1980.000000      13.900000       0.000000\n",
      "75%      1987.000000      18.990000       1.000000\n",
      "max      2004.000000     300.000000       2.000000 \n",
      "\n",
      "======================================================= \n",
      "\n",
      "<class 'pandas.core.frame.DataFrame'>\n",
      "Int64Index: 336913 entries, 0 to 337015\n",
      "Data columns (total 8 columns):\n",
      " #   Column      Non-Null Count   Dtype  \n",
      "---  ------      --------------   -----  \n",
      " 0   id_prod     336913 non-null  string \n",
      " 1   date        336913 non-null  string \n",
      " 2   session_id  336913 non-null  string \n",
      " 3   client_id   336913 non-null  string \n",
      " 4   sex         336913 non-null  string \n",
      " 5   birth       336913 non-null  int64  \n",
      " 6   price       336913 non-null  float64\n",
      " 7   categ       336913 non-null  float64\n",
      "dtypes: float64(2), int64(1), string(5)\n",
      "memory usage: 23.1 MB\n",
      "None\n"
     ]
    }
   ],
   "source": [
    "print(df_merge.describe(), '\\n')\n",
    "print('======================================================= \\n')\n",
    "print(df_merge.info())"
   ]
  },
  {
   "cell_type": "markdown",
   "metadata": {},
   "source": [
    "Je m'interesse aux outliers sur les nombres de commandes passé."
   ]
  },
  {
   "cell_type": "code",
   "execution_count": 8,
   "metadata": {
    "scrolled": false
   },
   "outputs": [
    {
     "data": {
      "text/plain": [
       "count     8602.000000\n",
       "mean        39.166822\n",
       "std        156.418669\n",
       "min          1.000000\n",
       "25%         14.000000\n",
       "50%         25.000000\n",
       "75%         47.000000\n",
       "max      12855.000000\n",
       "dtype: float64"
      ]
     },
     "execution_count": 8,
     "metadata": {},
     "output_type": "execute_result"
    }
   ],
   "source": [
    "nb_com = df_merge.pivot_table(columns=['client_id'], aggfunc='size')\n",
    "nb_com.describe()"
   ]
  },
  {
   "cell_type": "code",
   "execution_count": 9,
   "metadata": {},
   "outputs": [
    {
     "data": {
      "text/plain": [
       "[Text(0.5, 1.0, 'Nombre de ventes par clients')]"
      ]
     },
     "execution_count": 9,
     "metadata": {},
     "output_type": "execute_result"
    },
    {
     "data": {
      "image/png": "[encoded data removed]",
      "text/plain": [
       "<Figure size 1080x504 with 1 Axes>"
      ]
     },
     "metadata": {},
     "output_type": "display_data"
    }
   ],
   "source": [
    "sns.set(rc={'figure.figsize':(15,7)})\n",
    "sns.boxplot(x=nb_com).set(title='Nombre de ventes par clients')"
   ]
  },
  {
   "cell_type": "markdown",
   "metadata": {},
   "source": [
    "Il y a 4 valeurs qui sortent du lot.. Je les isoles et les drop. Ce doit être des commandes professionelles."
   ]
  },
  {
   "cell_type": "code",
   "execution_count": 10,
   "metadata": {},
   "outputs": [
    {
     "name": "stdout",
     "output_type": "stream",
     "text": [
      "client_id\n",
      "c_1609    12855\n",
      "c_3454     3273\n",
      "c_4958     2562\n",
      "c_6714     4471\n",
      "dtype: int64\n"
     ]
    }
   ],
   "source": [
    "print(nb_com[nb_com>2000])"
   ]
  },
  {
   "cell_type": "code",
   "execution_count": 11,
   "metadata": {},
   "outputs": [],
   "source": [
    "drop = df_merge[(df_merge['client_id'] == 'c_1609') \n",
    "                | (df_merge['client_id']=='c_3454') \n",
    "                | (df_merge['client_id']=='c_4958')\n",
    "                | (df_merge['client_id']=='c_6714')].index\n",
    "df_merge.drop(index=drop, inplace=True)"
   ]
  },
  {
   "cell_type": "code",
   "execution_count": 12,
   "metadata": {},
   "outputs": [
    {
     "data": {
      "text/plain": [
       "[Text(0.5, 1.0, 'Nombre de ventes par client')]"
      ]
     },
     "execution_count": 12,
     "metadata": {},
     "output_type": "execute_result"
    },
    {
     "data": {
      "image/png": "[encoded data removed]",
      "text/plain": [
       "<Figure size 1080x504 with 1 Axes>"
      ]
     },
     "metadata": {},
     "output_type": "display_data"
    }
   ],
   "source": [
    "nb_com2 = df_merge.pivot_table(columns=['client_id'], aggfunc='size')\n",
    "sns.set(rc={'figure.figsize':(15,7)})\n",
    "sns.boxplot(x=nb_com2).set(title='Nombre de ventes par client')"
   ]
  },
  {
   "cell_type": "markdown",
   "metadata": {},
   "source": [
    "#### Price :"
   ]
  },
  {
   "cell_type": "code",
   "execution_count": 13,
   "metadata": {},
   "outputs": [
    {
     "data": {
      "text/plain": [
       "count    313752.000000\n",
       "mean         17.091438\n",
       "std          17.597168\n",
       "min          -1.000000\n",
       "25%           8.580000\n",
       "50%          13.790000\n",
       "75%          18.990000\n",
       "max         300.000000\n",
       "Name: price, dtype: float64"
      ]
     },
     "execution_count": 13,
     "metadata": {},
     "output_type": "execute_result"
    }
   ],
   "source": [
    "df_merge['price'].describe()"
   ]
  },
  {
   "cell_type": "markdown",
   "metadata": {},
   "source": [
    "On peut remarquer un problème avec les prix dont la valeur minimale est -1."
   ]
  },
  {
   "cell_type": "code",
   "execution_count": 14,
   "metadata": {
    "scrolled": false
   },
   "outputs": [
    {
     "data": {
      "text/html": [
       "<div>\n",
       "<style scoped>\n",
       "    .dataframe tbody tr th:only-of-type {\n",
       "        vertical-align: middle;\n",
       "    }\n",
       "\n",
       "    .dataframe tbody tr th {\n",
       "        vertical-align: top;\n",
       "    }\n",
       "\n",
       "    .dataframe thead th {\n",
       "        text-align: right;\n",
       "    }\n",
       "</style>\n",
       "<table border=\"1\" class=\"dataframe\">\n",
       "  <thead>\n",
       "    <tr style=\"text-align: right;\">\n",
       "      <th></th>\n",
       "      <th>id_prod</th>\n",
       "      <th>date</th>\n",
       "      <th>session_id</th>\n",
       "      <th>client_id</th>\n",
       "      <th>sex</th>\n",
       "      <th>birth</th>\n",
       "      <th>price</th>\n",
       "      <th>categ</th>\n",
       "    </tr>\n",
       "  </thead>\n",
       "  <tbody>\n",
       "    <tr>\n",
       "      <th>1431</th>\n",
       "      <td>T_0</td>\n",
       "      <td>test_2021-03-01 02:30:02.237420</td>\n",
       "      <td>s_0</td>\n",
       "      <td>ct_1</td>\n",
       "      <td>m</td>\n",
       "      <td>2001</td>\n",
       "      <td>-1.0</td>\n",
       "      <td>0.0</td>\n",
       "    </tr>\n",
       "    <tr>\n",
       "      <th>2365</th>\n",
       "      <td>T_0</td>\n",
       "      <td>test_2021-03-01 02:30:02.237446</td>\n",
       "      <td>s_0</td>\n",
       "      <td>ct_1</td>\n",
       "      <td>m</td>\n",
       "      <td>2001</td>\n",
       "      <td>-1.0</td>\n",
       "      <td>0.0</td>\n",
       "    </tr>\n",
       "    <tr>\n",
       "      <th>2895</th>\n",
       "      <td>T_0</td>\n",
       "      <td>test_2021-03-01 02:30:02.237414</td>\n",
       "      <td>s_0</td>\n",
       "      <td>ct_1</td>\n",
       "      <td>m</td>\n",
       "      <td>2001</td>\n",
       "      <td>-1.0</td>\n",
       "      <td>0.0</td>\n",
       "    </tr>\n",
       "    <tr>\n",
       "      <th>5955</th>\n",
       "      <td>T_0</td>\n",
       "      <td>test_2021-03-01 02:30:02.237441</td>\n",
       "      <td>s_0</td>\n",
       "      <td>ct_0</td>\n",
       "      <td>f</td>\n",
       "      <td>2001</td>\n",
       "      <td>-1.0</td>\n",
       "      <td>0.0</td>\n",
       "    </tr>\n",
       "    <tr>\n",
       "      <th>7283</th>\n",
       "      <td>T_0</td>\n",
       "      <td>test_2021-03-01 02:30:02.237434</td>\n",
       "      <td>s_0</td>\n",
       "      <td>ct_1</td>\n",
       "      <td>m</td>\n",
       "      <td>2001</td>\n",
       "      <td>-1.0</td>\n",
       "      <td>0.0</td>\n",
       "    </tr>\n",
       "    <tr>\n",
       "      <th>...</th>\n",
       "      <td>...</td>\n",
       "      <td>...</td>\n",
       "      <td>...</td>\n",
       "      <td>...</td>\n",
       "      <td>...</td>\n",
       "      <td>...</td>\n",
       "      <td>...</td>\n",
       "      <td>...</td>\n",
       "    </tr>\n",
       "    <tr>\n",
       "      <th>332594</th>\n",
       "      <td>T_0</td>\n",
       "      <td>test_2021-03-01 02:30:02.237445</td>\n",
       "      <td>s_0</td>\n",
       "      <td>ct_0</td>\n",
       "      <td>f</td>\n",
       "      <td>2001</td>\n",
       "      <td>-1.0</td>\n",
       "      <td>0.0</td>\n",
       "    </tr>\n",
       "    <tr>\n",
       "      <th>332705</th>\n",
       "      <td>T_0</td>\n",
       "      <td>test_2021-03-01 02:30:02.237423</td>\n",
       "      <td>s_0</td>\n",
       "      <td>ct_1</td>\n",
       "      <td>m</td>\n",
       "      <td>2001</td>\n",
       "      <td>-1.0</td>\n",
       "      <td>0.0</td>\n",
       "    </tr>\n",
       "    <tr>\n",
       "      <th>332730</th>\n",
       "      <td>T_0</td>\n",
       "      <td>test_2021-03-01 02:30:02.237421</td>\n",
       "      <td>s_0</td>\n",
       "      <td>ct_1</td>\n",
       "      <td>m</td>\n",
       "      <td>2001</td>\n",
       "      <td>-1.0</td>\n",
       "      <td>0.0</td>\n",
       "    </tr>\n",
       "    <tr>\n",
       "      <th>333442</th>\n",
       "      <td>T_0</td>\n",
       "      <td>test_2021-03-01 02:30:02.237431</td>\n",
       "      <td>s_0</td>\n",
       "      <td>ct_1</td>\n",
       "      <td>m</td>\n",
       "      <td>2001</td>\n",
       "      <td>-1.0</td>\n",
       "      <td>0.0</td>\n",
       "    </tr>\n",
       "    <tr>\n",
       "      <th>335279</th>\n",
       "      <td>T_0</td>\n",
       "      <td>test_2021-03-01 02:30:02.237430</td>\n",
       "      <td>s_0</td>\n",
       "      <td>ct_0</td>\n",
       "      <td>f</td>\n",
       "      <td>2001</td>\n",
       "      <td>-1.0</td>\n",
       "      <td>0.0</td>\n",
       "    </tr>\n",
       "  </tbody>\n",
       "</table>\n",
       "<p>200 rows × 8 columns</p>\n",
       "</div>"
      ],
      "text/plain": [
       "       id_prod                             date session_id client_id sex  \\\n",
       "1431       T_0  test_2021-03-01 02:30:02.237420        s_0      ct_1   m   \n",
       "2365       T_0  test_2021-03-01 02:30:02.237446        s_0      ct_1   m   \n",
       "2895       T_0  test_2021-03-01 02:30:02.237414        s_0      ct_1   m   \n",
       "5955       T_0  test_2021-03-01 02:30:02.237441        s_0      ct_0   f   \n",
       "7283       T_0  test_2021-03-01 02:30:02.237434        s_0      ct_1   m   \n",
       "...        ...                              ...        ...       ...  ..   \n",
       "332594     T_0  test_2021-03-01 02:30:02.237445        s_0      ct_0   f   \n",
       "332705     T_0  test_2021-03-01 02:30:02.237423        s_0      ct_1   m   \n",
       "332730     T_0  test_2021-03-01 02:30:02.237421        s_0      ct_1   m   \n",
       "333442     T_0  test_2021-03-01 02:30:02.237431        s_0      ct_1   m   \n",
       "335279     T_0  test_2021-03-01 02:30:02.237430        s_0      ct_0   f   \n",
       "\n",
       "        birth  price  categ  \n",
       "1431     2001   -1.0    0.0  \n",
       "2365     2001   -1.0    0.0  \n",
       "2895     2001   -1.0    0.0  \n",
       "5955     2001   -1.0    0.0  \n",
       "7283     2001   -1.0    0.0  \n",
       "...       ...    ...    ...  \n",
       "332594   2001   -1.0    0.0  \n",
       "332705   2001   -1.0    0.0  \n",
       "332730   2001   -1.0    0.0  \n",
       "333442   2001   -1.0    0.0  \n",
       "335279   2001   -1.0    0.0  \n",
       "\n",
       "[200 rows x 8 columns]"
      ]
     },
     "execution_count": 14,
     "metadata": {},
     "output_type": "execute_result"
    }
   ],
   "source": [
    "df_merge[df_merge['price']<=0]"
   ]
  },
  {
   "cell_type": "markdown",
   "metadata": {},
   "source": [
    "Il y a 200 commandes à -1, qui repressante seulement 1 produit (T_0) commandé par 2 clients (ct_0 et ct_1) qui sont des clients test."
   ]
  },
  {
   "cell_type": "code",
   "execution_count": 15,
   "metadata": {},
   "outputs": [],
   "source": [
    "drop = df_merge[(df_merge['id_prod'] == 'T_0') \n",
    "                | (df_merge['client_id']=='ct_0') \n",
    "                | (df_merge['client_id']=='ct_1')].index\n",
    "df_merge.drop(index=drop, inplace=True)\n",
    "df_merge['date'] = pd.to_datetime(df_merge['date'])"
   ]
  },
  {
   "cell_type": "markdown",
   "metadata": {},
   "source": [
    "Je vérifie la limite haute s'il n'y a pas d'incohérence."
   ]
  },
  {
   "cell_type": "code",
   "execution_count": 16,
   "metadata": {
    "scrolled": false
   },
   "outputs": [
    {
     "data": {
      "text/html": [
       "<div>\n",
       "<style scoped>\n",
       "    .dataframe tbody tr th:only-of-type {\n",
       "        vertical-align: middle;\n",
       "    }\n",
       "\n",
       "    .dataframe tbody tr th {\n",
       "        vertical-align: top;\n",
       "    }\n",
       "\n",
       "    .dataframe thead th {\n",
       "        text-align: right;\n",
       "    }\n",
       "</style>\n",
       "<table border=\"1\" class=\"dataframe\">\n",
       "  <thead>\n",
       "    <tr style=\"text-align: right;\">\n",
       "      <th></th>\n",
       "      <th>id_prod</th>\n",
       "      <th>date</th>\n",
       "      <th>session_id</th>\n",
       "      <th>client_id</th>\n",
       "      <th>sex</th>\n",
       "      <th>birth</th>\n",
       "      <th>price</th>\n",
       "      <th>categ</th>\n",
       "    </tr>\n",
       "  </thead>\n",
       "  <tbody>\n",
       "    <tr>\n",
       "      <th>25701</th>\n",
       "      <td>2_76</td>\n",
       "      <td>2021-11-20 02:53:26.747301</td>\n",
       "      <td>s_122253</td>\n",
       "      <td>c_2221</td>\n",
       "      <td>m</td>\n",
       "      <td>1997</td>\n",
       "      <td>254.44</td>\n",
       "      <td>2.0</td>\n",
       "    </tr>\n",
       "    <tr>\n",
       "      <th>50236</th>\n",
       "      <td>2_2</td>\n",
       "      <td>2021-03-07 14:07:31.004391</td>\n",
       "      <td>s_3041</td>\n",
       "      <td>c_1001</td>\n",
       "      <td>m</td>\n",
       "      <td>1982</td>\n",
       "      <td>300.00</td>\n",
       "      <td>2.0</td>\n",
       "    </tr>\n",
       "    <tr>\n",
       "      <th>81845</th>\n",
       "      <td>2_2</td>\n",
       "      <td>2021-06-12 08:44:00.882917</td>\n",
       "      <td>s_47558</td>\n",
       "      <td>c_5237</td>\n",
       "      <td>m</td>\n",
       "      <td>1999</td>\n",
       "      <td>300.00</td>\n",
       "      <td>2.0</td>\n",
       "    </tr>\n",
       "    <tr>\n",
       "      <th>209202</th>\n",
       "      <td>2_76</td>\n",
       "      <td>2021-06-25 16:42:42.846215</td>\n",
       "      <td>s_53679</td>\n",
       "      <td>c_7578</td>\n",
       "      <td>m</td>\n",
       "      <td>1995</td>\n",
       "      <td>254.44</td>\n",
       "      <td>2.0</td>\n",
       "    </tr>\n",
       "    <tr>\n",
       "      <th>229704</th>\n",
       "      <td>2_76</td>\n",
       "      <td>2021-12-13 16:41:52.579788</td>\n",
       "      <td>s_133825</td>\n",
       "      <td>c_665</td>\n",
       "      <td>f</td>\n",
       "      <td>2004</td>\n",
       "      <td>254.44</td>\n",
       "      <td>2.0</td>\n",
       "    </tr>\n",
       "    <tr>\n",
       "      <th>252824</th>\n",
       "      <td>2_76</td>\n",
       "      <td>2021-08-12 14:52:15.909705</td>\n",
       "      <td>s_74790</td>\n",
       "      <td>c_2791</td>\n",
       "      <td>m</td>\n",
       "      <td>2004</td>\n",
       "      <td>254.44</td>\n",
       "      <td>2.0</td>\n",
       "    </tr>\n",
       "    <tr>\n",
       "      <th>281271</th>\n",
       "      <td>2_2</td>\n",
       "      <td>2021-05-02 18:34:47.753888</td>\n",
       "      <td>s_28956</td>\n",
       "      <td>c_2329</td>\n",
       "      <td>f</td>\n",
       "      <td>1996</td>\n",
       "      <td>300.00</td>\n",
       "      <td>2.0</td>\n",
       "    </tr>\n",
       "    <tr>\n",
       "      <th>303397</th>\n",
       "      <td>2_2</td>\n",
       "      <td>2021-06-06 23:14:33.815188</td>\n",
       "      <td>s_45088</td>\n",
       "      <td>c_2467</td>\n",
       "      <td>f</td>\n",
       "      <td>1997</td>\n",
       "      <td>300.00</td>\n",
       "      <td>2.0</td>\n",
       "    </tr>\n",
       "    <tr>\n",
       "      <th>334950</th>\n",
       "      <td>2_2</td>\n",
       "      <td>2022-02-28 21:24:28.442508</td>\n",
       "      <td>s_172373</td>\n",
       "      <td>c_659</td>\n",
       "      <td>f</td>\n",
       "      <td>2001</td>\n",
       "      <td>300.00</td>\n",
       "      <td>2.0</td>\n",
       "    </tr>\n",
       "  </tbody>\n",
       "</table>\n",
       "</div>"
      ],
      "text/plain": [
       "       id_prod                       date session_id client_id sex  birth  \\\n",
       "25701     2_76 2021-11-20 02:53:26.747301   s_122253    c_2221   m   1997   \n",
       "50236      2_2 2021-03-07 14:07:31.004391     s_3041    c_1001   m   1982   \n",
       "81845      2_2 2021-06-12 08:44:00.882917    s_47558    c_5237   m   1999   \n",
       "209202    2_76 2021-06-25 16:42:42.846215    s_53679    c_7578   m   1995   \n",
       "229704    2_76 2021-12-13 16:41:52.579788   s_133825     c_665   f   2004   \n",
       "252824    2_76 2021-08-12 14:52:15.909705    s_74790    c_2791   m   2004   \n",
       "281271     2_2 2021-05-02 18:34:47.753888    s_28956    c_2329   f   1996   \n",
       "303397     2_2 2021-06-06 23:14:33.815188    s_45088    c_2467   f   1997   \n",
       "334950     2_2 2022-02-28 21:24:28.442508   s_172373     c_659   f   2001   \n",
       "\n",
       "         price  categ  \n",
       "25701   254.44    2.0  \n",
       "50236   300.00    2.0  \n",
       "81845   300.00    2.0  \n",
       "209202  254.44    2.0  \n",
       "229704  254.44    2.0  \n",
       "252824  254.44    2.0  \n",
       "281271  300.00    2.0  \n",
       "303397  300.00    2.0  \n",
       "334950  300.00    2.0  "
      ]
     },
     "execution_count": 16,
     "metadata": {},
     "output_type": "execute_result"
    }
   ],
   "source": [
    "df_merge[df_merge['price']>250]"
   ]
  },
  {
   "cell_type": "markdown",
   "metadata": {},
   "source": [
    "#### Birth :"
   ]
  },
  {
   "cell_type": "markdown",
   "metadata": {},
   "source": [
    "Je vérifie que les années soit cohérentes (pas de 1700 ni de date supérieur à la date actuelle)."
   ]
  },
  {
   "cell_type": "code",
   "execution_count": 17,
   "metadata": {},
   "outputs": [
    {
     "data": {
      "text/plain": [
       "count    313552.000000\n",
       "mean       1977.793489\n",
       "std          13.797582\n",
       "min        1929.000000\n",
       "25%        1971.000000\n",
       "50%        1979.000000\n",
       "75%        1987.000000\n",
       "max        2004.000000\n",
       "Name: birth, dtype: float64"
      ]
     },
     "execution_count": 17,
     "metadata": {},
     "output_type": "execute_result"
    }
   ],
   "source": [
    "df_merge['birth'].describe()"
   ]
  },
  {
   "cell_type": "markdown",
   "metadata": {},
   "source": [
    "### Export"
   ]
  },
  {
   "cell_type": "code",
   "execution_count": 18,
   "metadata": {
    "scrolled": true
   },
   "outputs": [],
   "source": [
    "df_merge.to_csv(r'Ressources\\CURATED\\data.csv', index_label=False)"
   ]
  }
 ],
 "metadata": {
  "kernelspec": {
   "display_name": "Python 3",
   "language": "python",
   "name": "python3"
  },
  "language_info": {
   "codemirror_mode": {
    "name": "ipython",
    "version": 3
   },
   "file_extension": ".py",
   "mimetype": "text/x-python",
   "name": "python",
   "nbconvert_exporter": "python",
   "pygments_lexer": "ipython3",
   "version": "3.8.5"
  }
 },
 "nbformat": 4,
 "nbformat_minor": 4
}
